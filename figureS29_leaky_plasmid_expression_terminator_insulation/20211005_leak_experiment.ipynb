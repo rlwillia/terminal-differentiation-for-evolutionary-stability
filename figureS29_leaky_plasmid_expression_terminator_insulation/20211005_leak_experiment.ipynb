{
 "cells": [
  {
   "cell_type": "markdown",
   "metadata": {},
   "source": [
    "In this jupyter notebook, we will be analyzing plate reader data from experiments used to characterize leaky expression from the ColE1 plasmid encoding T7 RNAP-driven GFP in the absence of T7 RNAP, and generate the plot as shown in Supplementary Figure 29."
   ]
  },
  {
   "cell_type": "code",
   "execution_count": 1,
   "metadata": {},
   "outputs": [],
   "source": [
    "import numpy as np\n",
    "import pandas as pd\n",
    "import scipy.optimize\n",
    "import murraylab_tools.biotek as btek\n",
    "import itertools\n",
    "\n",
    "import matplotlib.pyplot as plt\n",
    "import matplotlib as mpl\n",
    "import seaborn as sns\n",
    "from cycler import cycler\n",
    "import numpy as np\n",
    "\n",
    "sns.set_context(\"talk\", font_scale=1.5, rc={\"lines.linewidth\": 1.5})\n",
    "sns.set_style(\"ticks\")\n",
    "sns.set_style({\"xtick.direction\": \"in\",\"ytick.direction\": \"in\"})\n",
    "\n",
    "mpl.rc('axes', prop_cycle=(cycler('color', ['r', 'k', 'b','g','y','m','c']) ))\n",
    "\n",
    "mpl.rcParams['pdf.fonttype'] = 42\n",
    "mpl.rcParams['ps.fonttype'] = 42\n",
    "tw = 1.5\n",
    "sns.set_style({\"xtick.major.size\": 3, \"ytick.major.size\": 3,\n",
    "               \"xtick.minor.size\": 2, \"ytick.minor.size\": 2,\n",
    "               'axes.labelsize': 16, 'axes.titlesize': 16,\n",
    "               'xtick.major.width': tw, 'xtick.minor.width': tw,\n",
    "               'ytick.major.width': tw, 'ytick.minor.width': tw})\n",
    "\n",
    "mpl.rc('xtick', labelsize=14) \n",
    "mpl.rc('ytick', labelsize=14)\n",
    "mpl.rc('axes', linewidth=1.5)\n",
    "mpl.rc('legend', fontsize=14)\n",
    "mpl.rc('legend', frameon=False)\n",
    "mpl.rc('figure', figsize=(8.5,15))\n",
    "%matplotlib qt"
   ]
  },
  {
   "cell_type": "markdown",
   "metadata": {},
   "source": [
    "First load data/metadata"
   ]
  },
  {
   "cell_type": "code",
   "execution_count": 2,
   "metadata": {},
   "outputs": [
    {
     "name": "stderr",
     "output_type": "stream",
     "text": [
      "/Users/rorywilliams/opt/anaconda3/lib/python3.7/site-packages/ipykernel_launcher.py:24: SettingWithCopyWarning: \n",
      "A value is trying to be set on a copy of a slice from a DataFrame.\n",
      "Try using .loc[row_indexer,col_indexer] = value instead\n",
      "\n",
      "See the caveats in the documentation: http://pandas.pydata.org/pandas-docs/stable/indexing.html#indexing-view-versus-copy\n",
      "/Users/rorywilliams/opt/anaconda3/lib/python3.7/site-packages/ipykernel_launcher.py:26: SettingWithCopyWarning: \n",
      "A value is trying to be set on a copy of a slice from a DataFrame.\n",
      "Try using .loc[row_indexer,col_indexer] = value instead\n",
      "\n",
      "See the caveats in the documentation: http://pandas.pydata.org/pandas-docs/stable/indexing.html#indexing-view-versus-copy\n",
      "/Users/rorywilliams/opt/anaconda3/lib/python3.7/site-packages/ipykernel_launcher.py:28: SettingWithCopyWarning: \n",
      "A value is trying to be set on a copy of a slice from a DataFrame.\n",
      "Try using .loc[row_indexer,col_indexer] = value instead\n",
      "\n",
      "See the caveats in the documentation: http://pandas.pydata.org/pandas-docs/stable/indexing.html#indexing-view-versus-copy\n",
      "/Users/rorywilliams/opt/anaconda3/lib/python3.7/site-packages/pandas/core/frame.py:3940: SettingWithCopyWarning: \n",
      "A value is trying to be set on a copy of a slice from a DataFrame\n",
      "\n",
      "See the caveats in the documentation: http://pandas.pydata.org/pandas-docs/stable/indexing.html#indexing-view-versus-copy\n",
      "  errors=errors)\n",
      "/Users/rorywilliams/opt/anaconda3/lib/python3.7/site-packages/ipykernel_launcher.py:31: SettingWithCopyWarning: \n",
      "A value is trying to be set on a copy of a slice from a DataFrame.\n",
      "Try using .loc[row_indexer,col_indexer] = value instead\n",
      "\n",
      "See the caveats in the documentation: http://pandas.pydata.org/pandas-docs/stable/indexing.html#indexing-view-versus-copy\n"
     ]
    }
   ],
   "source": [
    "# load data\n",
    "endpoint_data = pd.read_csv('./20211005_leak_experiment_endpoint.csv')\n",
    "endpoint_metadata = pd.read_csv('./20211005_metadata.csv')\n",
    "columns = list(endpoint_metadata.columns)\n",
    "columns += ['channel','gain','measurement']\n",
    "cols = np.arange(1,13)\n",
    "rows = ['A','B','C','D','E','F','G']\n",
    "reads = endpoint_data['read'].unique()\n",
    "data = []\n",
    "df = endpoint_data\n",
    "for row in rows:\n",
    "    for col in cols:\n",
    "        for read in reads:\n",
    "            value = df.loc[(df.row==row)&(df.read==read),str(int(col))].values[0]\n",
    "            channel = read.split('_')[0]\n",
    "            gain = read.split('_')[1]\n",
    "            data_add = list(endpoint_metadata.loc[endpoint_metadata.well==row+str(int(col)),:].values.flatten())\n",
    "            data_add+=[channel,gain,value]\n",
    "            data.append(data_add)\n",
    "df_master = pd.DataFrame(columns=columns,data=data)\n",
    "df_master['gain'] = df_master['gain'].astype('int')\n",
    "df_master.drop(index=df_master.loc[df_master.strain=='empty'].index,inplace=True)   \n",
    "df_od = df_master.loc[df_master.channel=='OD600',:]\n",
    "df_od['measurement'] = df_od['measurement'].astype('float64') \n",
    "df_gfp = df_master.loc[(df_master.channel=='sfGFP')&(df_master.gain==2),:]\n",
    "df_gfp['measurement'] = df_gfp['measurement'].astype('float64')\n",
    "od_bg = df_od.loc[df_od.strain=='media','measurement'].mean()\n",
    "df_od['measurement'] -= od_bg\n",
    "df_od.drop(index=df_od.loc[df_od.strain=='media'].index,inplace=True)     \n",
    "df_gfp.drop(index=df_gfp.loc[df_gfp.strain=='media'].index,inplace=True)    \n",
    "df_gfp['GFP/OD'] = df_gfp.measurement.values/df_od.measurement.values #OD normalized GFP fluorescence"
   ]
  },
  {
   "cell_type": "code",
   "execution_count": 3,
   "metadata": {},
   "outputs": [],
   "source": [
    "df_od.to_csv('figureS29_OD600.csv')\n",
    "df_gfp.to_csv('figureS29_GFP_normGFP.csv')"
   ]
  },
  {
   "cell_type": "markdown",
   "metadata": {},
   "source": [
    "Below we generate the plot as shown in Supplementary Figure 29. Note that the colors for the negative control plot have been manually changed in Affinity Designer. Though we include an uninsulated construct on the AmpR backbone here, the main comparison is between uninsulated and insulated versions on the KanR backbone. From other experiments we show that AmpR plasmids may be more susceptible to loss/copy number fluctuations due to communal antibiotic degradation. We also have a horizontal plot to more easily display the plasmid diagrams."
   ]
  },
  {
   "cell_type": "code",
   "execution_count": 3,
   "metadata": {},
   "outputs": [],
   "source": [
    "sns.set_palette('colorblind',4)\n",
    "fig, ax = plt.subplots(figsize=(6,5))  \n",
    "df_plot = df_gfp.loc[df_gfp.iptg==0,:]\n",
    "strains = np.array(['1x diff 2x bxb1','split pir 2x bxb1'])\n",
    "\n",
    "sns.stripplot(y=\"plasmid\", x='GFP/OD', hue=\"strain\", data=df_plot,dodge=True,orient='h')\n",
    "sns.pointplot(y=\"plasmid\", x='GFP/OD', hue=\"strain\", data=df_plot, dodge=0.8 -0.8/2,\n",
    "              join=False, palette=\"dark\",\n",
    "              markers=\"d\", scale=1, ci=None,orient='h')\n",
    "ax.set_xscale('log')\n",
    "plt.savefig('20211005_leak_horizontal_20220102.pdf')"
   ]
  }
 ],
 "metadata": {
  "kernelspec": {
   "display_name": "Python 3 (ipykernel)",
   "language": "python",
   "name": "python3"
  },
  "language_info": {
   "codemirror_mode": {
    "name": "ipython",
    "version": 3
   },
   "file_extension": ".py",
   "mimetype": "text/x-python",
   "name": "python",
   "nbconvert_exporter": "python",
   "pygments_lexer": "ipython3",
   "version": "3.7.12"
  }
 },
 "nbformat": 4,
 "nbformat_minor": 2
}
